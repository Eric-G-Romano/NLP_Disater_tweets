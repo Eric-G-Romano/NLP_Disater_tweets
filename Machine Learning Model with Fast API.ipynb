{
 "cells": [
  {
   "cell_type": "markdown",
   "id": "e686b7bb",
   "metadata": {},
   "source": [
    "Use article as reference: \n",
    "https://towardsdatascience.com/how-to-build-and-deploy-a-machine-learning-model-with-fastapi-64c505213857\n",
    "\n",
    "The article is structured as follows:\n",
    "1. FastAPI installation and building the first API\n",
    "2. Interactive documentation exploration\n",
    "3. Training a machine learning model\n",
    "4. Building a complete REST API\n",
    "5. Testing\n",
    "6. Conclusion"
   ]
  },
  {
   "cell_type": "markdown",
   "id": "37a68e24",
   "metadata": {},
   "source": [
    "### FastAPI installation and building the first API \n",
    "\n",
    "Install lib along with ASGI server: Unicorn and Hypercorn\n",
    "http://www.uvicorn.org/\n",
    "https://gitlab.com/pgjones/hypercorn"
   ]
  },
  {
   "cell_type": "code",
   "execution_count": 7,
   "id": "5c320fbe",
   "metadata": {},
   "outputs": [
    {
     "name": "stdout",
     "output_type": "stream",
     "text": [
      "Note: you may need to restart the kernel to use updated packages.\n"
     ]
    },
    {
     "name": "stderr",
     "output_type": "stream",
     "text": [
      "The filename, directory name, or volume label syntax is incorrect.\n"
     ]
    }
   ],
   "source": [
    "pip install fastapi"
   ]
  },
  {
   "cell_type": "code",
   "execution_count": 5,
   "id": "b15d0434",
   "metadata": {},
   "outputs": [
    {
     "name": "stdout",
     "output_type": "stream",
     "text": [
      "Collecting package metadata (current_repodata.json): ...working... done\n",
      "Solving environment: ...working... failed with initial frozen solve. Retrying with flexible solve.\n",
      "Collecting package metadata (repodata.json): ...working... done\n",
      "Solving environment: ...working... failed with initial frozen solve. Retrying with flexible solve.\n",
      "\n",
      "Note: you may need to restart the kernel to use updated packages.\n"
     ]
    },
    {
     "name": "stderr",
     "output_type": "stream",
     "text": [
      "\n",
      "PackagesNotFoundError: The following packages are not available from current channels:\n",
      "\n",
      "  - fastapi\n",
      "  - uvicorn\n",
      "\n",
      "Current channels:\n",
      "\n",
      "  - https://repo.anaconda.com/pkgs/main/win-64\n",
      "  - https://repo.anaconda.com/pkgs/main/noarch\n",
      "  - https://repo.anaconda.com/pkgs/r/win-64\n",
      "  - https://repo.anaconda.com/pkgs/r/noarch\n",
      "  - https://repo.anaconda.com/pkgs/msys2/win-64\n",
      "  - https://repo.anaconda.com/pkgs/msys2/noarch\n",
      "\n",
      "To search for alternate channels that may provide the conda package you're\n",
      "looking for, navigate to\n",
      "\n",
      "    https://anaconda.org\n",
      "\n",
      "and use the search bar at the top of the page.\n",
      "\n",
      "\n"
     ]
    }
   ],
   "source": [
    "conda install fastapi uvicorn"
   ]
  },
  {
   "cell_type": "markdown",
   "id": "77830de5",
   "metadata": {},
   "source": [
    "Make a simple API with two endpoints.\n",
    "1. Import libraries -- both FastAPI and Uvicorn\n",
    "2. Create an instance of the FastAPI class\n",
    "3. Declare the first route -- returns a simple Json object on the index page(http://127.0.0.1:8000--this is configured in step 5)\n",
    "4. Declare the final route -- returns a simple JSON object containing a personalized message. The name parameter comes directly form the URL (e.g http://127.0.02.:8000/Eric)\n",
    "5. Run the API with Uvicorn"
   ]
  },
  {
   "cell_type": "code",
   "execution_count": 4,
   "id": "cfdb32dd",
   "metadata": {},
   "outputs": [
    {
     "ename": "ModuleNotFoundError",
     "evalue": "No module named 'uvicorn'",
     "output_type": "error",
     "traceback": [
      "\u001b[1;31m---------------------------------------------------------------------------\u001b[0m",
      "\u001b[1;31mModuleNotFoundError\u001b[0m                       Traceback (most recent call last)",
      "\u001b[1;32m~\\AppData\\Local\\Temp/ipykernel_19196/945996604.py\u001b[0m in \u001b[0;36m<module>\u001b[1;34m\u001b[0m\n\u001b[0;32m      1\u001b[0m \u001b[1;31m#1. Import libraries -- both FastAPI and Uvicorn\u001b[0m\u001b[1;33m\u001b[0m\u001b[1;33m\u001b[0m\u001b[1;33m\u001b[0m\u001b[0m\n\u001b[1;32m----> 2\u001b[1;33m \u001b[1;32mimport\u001b[0m \u001b[0muvicorn\u001b[0m\u001b[1;33m\u001b[0m\u001b[1;33m\u001b[0m\u001b[0m\n\u001b[0m\u001b[0;32m      3\u001b[0m \u001b[1;32mfrom\u001b[0m \u001b[0mfastapi\u001b[0m \u001b[1;32mimport\u001b[0m \u001b[0mFastAPI\u001b[0m\u001b[1;33m\u001b[0m\u001b[1;33m\u001b[0m\u001b[0m\n\u001b[0;32m      4\u001b[0m \u001b[1;33m\u001b[0m\u001b[0m\n\u001b[0;32m      5\u001b[0m \u001b[1;31m#2. Create the app object\u001b[0m\u001b[1;33m\u001b[0m\u001b[1;33m\u001b[0m\u001b[1;33m\u001b[0m\u001b[0m\n",
      "\u001b[1;31mModuleNotFoundError\u001b[0m: No module named 'uvicorn'"
     ]
    }
   ],
   "source": [
    "#1. Import libraries -- both FastAPI and Uvicorn\n",
    "import uvicorn\n",
    "from fastapi import FastAPI\n",
    "\n",
    "#2. Create the app object\n",
    "app = FastAPI()\n",
    "\n",
    "#3. Index route, opens automatically  on http://127.0.0.1:8000\n",
    "@app.get('/')\n",
    "def index():\n",
    "    return {'message': 'Hello, stranger'}\n",
    "\n",
    "#4. Route with a single parameter, returns the parameter within a message\n",
    "# Locate at: http://127.0.0.1:8000/AnyNameHere\n",
    "@app.get('/{name}')\n",
    "def get_name(name:str):\n",
    "    return {'message': f'Hello, {name}'}\n",
    "\n",
    "#5. Run the API with uvicorn\n",
    "# Will run on http://127.0.0.1:8000\n",
    "\n",
    "if __name__ == '__main__':\n",
    "    unvicorn.run(app, host='127.0.0.1', port=8000)"
   ]
  },
  {
   "cell_type": "code",
   "execution_count": null,
   "id": "f7e571fc",
   "metadata": {},
   "outputs": [],
   "source": []
  }
 ],
 "metadata": {
  "kernelspec": {
   "display_name": "Python 3 (ipykernel)",
   "language": "python",
   "name": "python3"
  },
  "language_info": {
   "codemirror_mode": {
    "name": "ipython",
    "version": 3
   },
   "file_extension": ".py",
   "mimetype": "text/x-python",
   "name": "python",
   "nbconvert_exporter": "python",
   "pygments_lexer": "ipython3",
   "version": "3.8.11"
  }
 },
 "nbformat": 4,
 "nbformat_minor": 5
}
