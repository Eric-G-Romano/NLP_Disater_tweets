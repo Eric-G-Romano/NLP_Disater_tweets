{
 "cells": [
  {
   "cell_type": "markdown",
   "id": "e686b7bb",
   "metadata": {},
   "source": [
    "Use article as reference: \n",
    "https://towardsdatascience.com/how-to-build-and-deploy-a-machine-learning-model-with-fastapi-64c505213857\n",
    "\n",
    "The article is structured as follows:\n",
    "1. FastAPI installation and building the first API\n",
    "2. Interactive documentation exploration\n",
    "3. Training a machine learning model\n",
    "4. Building a complete REST API\n",
    "5. Testing\n",
    "6. Conclusion"
   ]
  },
  {
   "cell_type": "markdown",
   "id": "37a68e24",
   "metadata": {},
   "source": [
    "### FastAPI installation and building the first API \n",
    "\n",
    "Install lib along with ASGI server: Unicorn and Hypercorn\n",
    "http://www.uvicorn.org/\n",
    "https://gitlab.com/pgjones/hypercorn"
   ]
  },
  {
   "cell_type": "code",
   "execution_count": 3,
   "id": "b15d0434",
   "metadata": {},
   "outputs": [
    {
     "name": "stdout",
     "output_type": "stream",
     "text": [
      "Collecting package metadata (current_repodata.json): ...working... done\n",
      "Solving environment: ...working... done\n",
      "\n",
      "# All requested packages already installed.\n",
      "\n",
      "\n",
      "Note: you may need to restart the kernel to use updated packages.\n"
     ]
    }
   ],
   "source": [
    "conda install fastapi"
   ]
  },
  {
   "cell_type": "code",
   "execution_count": 4,
   "id": "2ca2bdf0",
   "metadata": {},
   "outputs": [
    {
     "name": "stdout",
     "output_type": "stream",
     "text": [
      "Collecting package metadata (current_repodata.json): ...working... done\n",
      "Solving environment: ...working... done\n",
      "\n",
      "# All requested packages already installed.\n",
      "\n",
      "\n",
      "Note: you may need to restart the kernel to use updated packages.\n"
     ]
    }
   ],
   "source": [
    "conda install uvicorn"
   ]
  },
  {
   "cell_type": "markdown",
   "id": "77830de5",
   "metadata": {},
   "source": [
    "Make a simple API with two endpoints.\n",
    "1. Import libraries -- both FastAPI and Uvicorn\n",
    "2. Create an instance of the FastAPI class\n",
    "3. Declare the first route -- returns a simple Json object on the index page(http://127.0.0.1:8000--this is configured in step 5)\n",
    "4. Declare the final route -- returns a simple JSON object containing a personalized message. The name parameter comes directly form the URL (e.g http://127.0.02.:8000/Eric)\n",
    "5. Run the API with Uvicorn"
   ]
  },
  {
   "cell_type": "code",
   "execution_count": 4,
   "id": "cfdb32dd",
   "metadata": {},
   "outputs": [
    {
     "name": "stdout",
     "output_type": "stream",
     "text": [
      "Writing test.py\n"
     ]
    }
   ],
   "source": [
    "%%writefile test.py\n",
    "\n",
    "#1. Import libraries -- both FastAPI and Uvicorn\n",
    "import uvicorn\n",
    "from fastapi import FastAPI\n",
    "\n",
    "#2. Create the app object\n",
    "app = FastAPI()\n",
    "\n",
    "#3. Index route, opens automatically  on http://127.0.0.1:8000\n",
    "@app.get('/')\n",
    "def index():\n",
    "    return {'message': 'Hello, stranger'}\n",
    "\n",
    "#4. Route with a single parameter, returns the parameter within a message\n",
    "# Locate at: http://127.0.0.1:8000/AnyNameHere\n",
    "@app.get('/{name}')\n",
    "def get_name(name:str):\n",
    "    return {'message': f'Hello, {name}'}\n",
    "\n",
    "#5. Run the API with uvicorn\n",
    "# Will run on http://127.0.0.1:8000\n",
    "if __name__ == '__main__':\n",
    "    uvicorn.run(app, host='127.0.0.1', port=8000)"
   ]
  },
  {
   "cell_type": "code",
   "execution_count": 5,
   "id": "c2dc5441",
   "metadata": {},
   "outputs": [
    {
     "name": "stdout",
     "output_type": "stream",
     "text": [
      "\n",
      "#1. Import libraries -- both FastAPI and Uvicorn\n",
      "import uvicorn\n",
      "from fastapi import FastAPI\n",
      "\n",
      "#2. Create the app object\n",
      "app = FastAPI()\n",
      "\n",
      "#3. Index route, opens automatically  on http://127.0.0.1:8000\n",
      "@app.get('/')\n",
      "def index():\n",
      "    return {'message': 'Hello, stranger'}\n",
      "\n",
      "#4. Route with a single parameter, returns the parameter within a message\n",
      "# Locate at: http://127.0.0.1:8000/AnyNameHere\n",
      "@app.get('/{name}')\n",
      "def get_name(name:str):\n",
      "    return {'message': f'Hello, {name}'}\n",
      "\n",
      "#5. Run the API with uvicorn\n",
      "# Will run on http://127.0.0.1:8000\n",
      "if __name__ == '__main__':\n",
      "    uvicorn.run(app, host='127.0.0.1', port=8000)\n"
     ]
    }
   ],
   "source": [
    "!cat test.py"
   ]
  },
  {
   "cell_type": "code",
   "execution_count": null,
   "id": "bc92b094",
   "metadata": {},
   "outputs": [],
   "source": []
  }
 ],
 "metadata": {
  "kernelspec": {
   "display_name": "Python 3 (ipykernel)",
   "language": "python",
   "name": "python3"
  },
  "language_info": {
   "codemirror_mode": {
    "name": "ipython",
    "version": 3
   },
   "file_extension": ".py",
   "mimetype": "text/x-python",
   "name": "python",
   "nbconvert_exporter": "python",
   "pygments_lexer": "ipython3",
   "version": "3.8.11"
  }
 },
 "nbformat": 4,
 "nbformat_minor": 5
}
