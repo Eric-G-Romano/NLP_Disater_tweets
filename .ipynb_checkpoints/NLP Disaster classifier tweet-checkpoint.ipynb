{
 "cells": [
  {
   "cell_type": "code",
   "execution_count": 13,
   "id": "abba0807",
   "metadata": {},
   "outputs": [],
   "source": [
    "# Import libraries\n",
    "import pandas as pd\n",
    "import numpy as np \n",
    "\n",
    "import matplotlib.pyplot as plt\n",
    "import seaborn as sns"
   ]
  },
  {
   "cell_type": "code",
   "execution_count": 4,
   "id": "f91b64ae",
   "metadata": {},
   "outputs": [
    {
     "name": "stdout",
     "output_type": "stream",
     "text": [
      "<class 'pandas.core.frame.DataFrame'>\n",
      "RangeIndex: 7613 entries, 0 to 7612\n",
      "Data columns (total 5 columns):\n",
      " #   Column    Non-Null Count  Dtype \n",
      "---  ------    --------------  ----- \n",
      " 0   id        7613 non-null   int64 \n",
      " 1   keyword   7552 non-null   object\n",
      " 2   location  5080 non-null   object\n",
      " 3   text      7613 non-null   object\n",
      " 4   target    7613 non-null   int64 \n",
      "dtypes: int64(2), object(3)\n",
      "memory usage: 297.5+ KB\n"
     ]
    }
   ],
   "source": [
    "df_train = pd.read_csv('train.csv')\n",
    "df_train.info()"
   ]
  },
  {
   "cell_type": "code",
   "execution_count": 7,
   "id": "52fdcb70",
   "metadata": {},
   "outputs": [
    {
     "name": "stdout",
     "output_type": "stream",
     "text": [
      "There are 7613 rows and 5 columns in this train dataset.\n"
     ]
    }
   ],
   "source": [
    "print('There are {} rows and {} columns in this train dataset.'.format(df_train.shape[0],df_train.shape[1]))"
   ]
  },
  {
   "cell_type": "markdown",
   "id": "5655f807",
   "metadata": {},
   "source": [
    "## EDA"
   ]
  },
  {
   "cell_type": "code",
   "execution_count": 12,
   "id": "7553a9fb",
   "metadata": {},
   "outputs": [
    {
     "name": "stdout",
     "output_type": "stream",
     "text": [
      "This train set contains 4342 instance of no disaster target\n",
      "This train set contains 3271 instance of disaster target\n"
     ]
    }
   ],
   "source": [
    "# Find the instance difference in the target class\n",
    "print('This train set contains {} instance of no disaster target'.format(len(df_train.loc[df_train['target'] == 0])))\n",
    "print('This train set contains {} instance of disaster target'.format(len(df_train.loc[df_train['target'] == 1])))"
   ]
  },
  {
   "cell_type": "code",
   "execution_count": 28,
   "id": "952cfcd7",
   "metadata": {},
   "outputs": [
    {
     "data": {
      "image/png": "[encoded data removed]",
      "text/plain": [
       "<Figure size 432x288 with 1 Axes>"
      ]
     },
     "metadata": {},
     "output_type": "display_data"
    }
   ],
   "source": [
    "sns.set_style('darkgrid')\n",
    "sns.set_palette('Set2')\n",
    "\n",
    "plot = sns.countplot(data=df_train, x='target')\n",
    "plt.title('Count of Target Class')\n",
    "plt.xlabel('Target Class')\n",
    "plt.ylabel('Count')\n",
    "plot.set_xticklabels(['Not A Disaster', 'Disaster'])\n",
    "\n",
    "sns.despine()\n",
    "plt.show()"
   ]
  },
  {
   "cell_type": "code",
   "execution_count": null,
   "id": "5634e569",
   "metadata": {},
   "outputs": [],
   "source": [
    "# Creating a new feature to determine the length of a text\n",
    "def textlength(text):\n",
    "    \"\"\"A function to determine the length of text\"\"\"\n",
    "    return len(text)"
   ]
  },
  {
   "cell_type": "code",
   "execution_count": null,
   "id": "8c1b5a37",
   "metadata": {},
   "outputs": [],
   "source": [
    "df_train['text']."
   ]
  }
 ],
 "metadata": {
  "kernelspec": {
   "display_name": "Python 3",
   "language": "python",
   "name": "python3"
  },
  "language_info": {
   "codemirror_mode": {
    "name": "ipython",
    "version": 3
   },
   "file_extension": ".py",
   "mimetype": "text/x-python",
   "name": "python",
   "nbconvert_exporter": "python",
   "pygments_lexer": "ipython3",
   "version": "3.8.8"
  }
 },
 "nbformat": 4,
 "nbformat_minor": 5
}
