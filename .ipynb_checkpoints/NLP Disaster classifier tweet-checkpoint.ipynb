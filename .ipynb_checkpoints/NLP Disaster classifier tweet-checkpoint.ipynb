{
 "cells": [
  {
   "cell_type": "code",
   "execution_count": 39,
   "id": "abba0807",
   "metadata": {},
   "outputs": [
    {
     "name": "stderr",
     "output_type": "stream",
     "text": [
      "[nltk_data] Downloading package punkt to\n",
      "[nltk_data]     C:\\Users\\egust\\AppData\\Roaming\\nltk_data...\n",
      "[nltk_data]   Unzipping tokenizers\\punkt.zip.\n"
     ]
    }
   ],
   "source": [
    "# Import libraries\n",
    "import pandas as pd\n",
    "import numpy as np \n",
    "\n",
    "import string\n",
    "from collections import defaultdict\n",
    "\n",
    "import matplotlib.pyplot as plt\n",
    "import seaborn as sns\n",
    "\n",
    "import nltk\n",
    "nltk.download('punkt')\n",
    "\n",
    "from nltk.tokenize import word_tokenize\n",
    "from nltk.tokenize import sent_tokenize"
   ]
  },
  {
   "cell_type": "code",
   "execution_count": 2,
   "id": "f91b64ae",
   "metadata": {},
   "outputs": [
    {
     "name": "stdout",
     "output_type": "stream",
     "text": [
      "<class 'pandas.core.frame.DataFrame'>\n",
      "RangeIndex: 7613 entries, 0 to 7612\n",
      "Data columns (total 5 columns):\n",
      " #   Column    Non-Null Count  Dtype \n",
      "---  ------    --------------  ----- \n",
      " 0   id        7613 non-null   int64 \n",
      " 1   keyword   7552 non-null   object\n",
      " 2   location  5080 non-null   object\n",
      " 3   text      7613 non-null   object\n",
      " 4   target    7613 non-null   int64 \n",
      "dtypes: int64(2), object(3)\n",
      "memory usage: 297.5+ KB\n"
     ]
    }
   ],
   "source": [
    "df_train = pd.read_csv('train.csv')\n",
    "df_train.info()"
   ]
  },
  {
   "cell_type": "code",
   "execution_count": 3,
   "id": "52fdcb70",
   "metadata": {},
   "outputs": [
    {
     "name": "stdout",
     "output_type": "stream",
     "text": [
      "There are 7613 rows and 5 columns in this train dataset.\n"
     ]
    }
   ],
   "source": [
    "print('There are {} rows and {} columns in this train dataset.'.format(df_train.shape[0],df_train.shape[1]))"
   ]
  },
  {
   "cell_type": "markdown",
   "id": "5655f807",
   "metadata": {},
   "source": [
    "## EDA"
   ]
  },
  {
   "cell_type": "code",
   "execution_count": 4,
   "id": "7553a9fb",
   "metadata": {},
   "outputs": [
    {
     "name": "stdout",
     "output_type": "stream",
     "text": [
      "This train set contains 4342 instance of no disaster target\n",
      "This train set contains 3271 instance of disaster target\n"
     ]
    }
   ],
   "source": [
    "# Find the instance difference in the target class\n",
    "print('This train set contains {} instance of no disaster target'.format(len(df_train.loc[df_train['target'] == 0])))\n",
    "print('This train set contains {} instance of disaster target'.format(len(df_train.loc[df_train['target'] == 1])))"
   ]
  },
  {
   "cell_type": "code",
   "execution_count": 5,
   "id": "952cfcd7",
   "metadata": {},
   "outputs": [
    {
     "data": {
      "image/png": "[encoded data removed]",
      "text/plain": [
       "<Figure size 432x288 with 1 Axes>"
      ]
     },
     "metadata": {},
     "output_type": "display_data"
    }
   ],
   "source": [
    "sns.set_style('darkgrid')\n",
    "sns.set_palette('Set2')\n",
    "\n",
    "plot = sns.countplot(data=df_train, x='target')\n",
    "plt.title('Count of Target Class')\n",
    "plt.xlabel('Target Class')\n",
    "plt.ylabel('Count')\n",
    "plot.set_xticklabels(['Not A Disaster', 'Disaster'])\n",
    "\n",
    "sns.despine()\n",
    "plt.show()"
   ]
  },
  {
   "cell_type": "code",
   "execution_count": 6,
   "id": "5634e569",
   "metadata": {},
   "outputs": [],
   "source": [
    "# Creating a new feature to determine the length of a text\n",
    "def textlength(text):\n",
    "    \"\"\"A function to determine the length of text\"\"\"\n",
    "    return len(text)"
   ]
  },
  {
   "cell_type": "code",
   "execution_count": 7,
   "id": "8c1b5a37",
   "metadata": {},
   "outputs": [
    {
     "name": "stdout",
     "output_type": "stream",
     "text": [
      "<class 'pandas.core.frame.DataFrame'>\n",
      "RangeIndex: 7613 entries, 0 to 7612\n",
      "Data columns (total 6 columns):\n",
      " #   Column      Non-Null Count  Dtype \n",
      "---  ------      --------------  ----- \n",
      " 0   id          7613 non-null   int64 \n",
      " 1   keyword     7552 non-null   object\n",
      " 2   location    5080 non-null   object\n",
      " 3   text        7613 non-null   object\n",
      " 4   target      7613 non-null   int64 \n",
      " 5   length_txt  7613 non-null   int64 \n",
      "dtypes: int64(3), object(3)\n",
      "memory usage: 357.0+ KB\n"
     ]
    }
   ],
   "source": [
    "df_train['length_txt'] = df_train['text'].apply(textlength)\n",
    "df_train.info()"
   ]
  },
  {
   "cell_type": "code",
   "execution_count": 8,
   "id": "22073af8",
   "metadata": {},
   "outputs": [
    {
     "data": {
      "text/plain": [
       "<seaborn.axisgrid.FacetGrid at 0x185ca6433d0>"
      ]
     },
     "execution_count": 8,
     "metadata": {},
     "output_type": "execute_result"
    },
    {
     "data": {
      "image/png": "[encoded data removed]",
      "text/plain": [
       "<Figure size 761.625x360 with 2 Axes>"
      ]
     },
     "metadata": {},
     "output_type": "display_data"
    }
   ],
   "source": [
    "# Finding the distribution of text length between target class\n",
    "sns.displot(data=df_train, x='length_txt', bins=35, hue='target', col='target', palette='GnBu')"
   ]
  },
  {
   "cell_type": "code",
   "execution_count": 9,
   "id": "c758da0f",
   "metadata": {},
   "outputs": [],
   "source": [
    "# This is showing me that the length of text is not a great feature to seperate the classes.\n",
    "# However, there are more smaller length text that show that there is no disaster. "
   ]
  },
  {
   "cell_type": "code",
   "execution_count": 10,
   "id": "de3a8b58",
   "metadata": {},
   "outputs": [],
   "source": [
    "def word_count(text):\n",
    "    \"\"\"Count the amount of words in a text\"\"\"\n",
    "    return len(text.split())"
   ]
  },
  {
   "cell_type": "code",
   "execution_count": 11,
   "id": "b0287f59",
   "metadata": {},
   "outputs": [],
   "source": [
    "df_train['word_count'] = df_train['text'].apply(word_count)"
   ]
  },
  {
   "cell_type": "code",
   "execution_count": 12,
   "id": "e260b3ff",
   "metadata": {},
   "outputs": [
    {
     "data": {
      "text/plain": [
       "<seaborn.axisgrid.FacetGrid at 0x185cad60940>"
      ]
     },
     "execution_count": 12,
     "metadata": {},
     "output_type": "execute_result"
    },
    {
     "data": {
      "image/png": "[encoded data removed]",
      "text/plain": [
       "<Figure size 761.625x360 with 2 Axes>"
      ]
     },
     "metadata": {},
     "output_type": "display_data"
    }
   ],
   "source": [
    "# Finding the distribution of text length between target class\n",
    "sns.displot(data=df_train, x='word_count', bins=25, hue='target', col='target', palette='GnBu')"
   ]
  },
  {
   "cell_type": "code",
   "execution_count": 13,
   "id": "12c719de",
   "metadata": {},
   "outputs": [],
   "source": [
    "# The next step to my process is examining the puncuation for each target class\n",
    "# 1. Create a corpus function to make a corpus for each target.\n",
    "# 2. Find which puncuation is important for each target, demonstrate with a visual\n",
    "\n",
    "def create_corpus(target):\n",
    "    corpus = []\n",
    "    \n",
    "    for x in df_train[df_train.target == target]['text'].str.split():\n",
    "        for i in x:\n",
    "            corpus.append(i)\n",
    "    return corpus"
   ]
  },
  {
   "cell_type": "code",
   "execution_count": 14,
   "id": "4d340548",
   "metadata": {},
   "outputs": [],
   "source": [
    "# Remove '-' & from the analysis"
   ]
  },
  {
   "cell_type": "code",
   "execution_count": 17,
   "id": "dcc5d7de",
   "metadata": {},
   "outputs": [],
   "source": [
    "def dic_punctuation(target):\n",
    "    corpus= create_corpus(target)\n",
    "    \n",
    "    dic=defaultdict(int)\n",
    "    special = string.punctuation\n",
    "    for word in corpus:\n",
    "        if word in special:\n",
    "            dic[word]+=1\n",
    "    # Remove '-' from the analysis\n",
    "    del dic['-']\n",
    "    \n",
    "    sorted_tuples = sorted(dic.items(), key= lambda item:item[1])\n",
    "    dic = {k: v for k, v in sorted_tuples}\n",
    "    \n",
    "    return dic"
   ]
  },
  {
   "cell_type": "code",
   "execution_count": 31,
   "id": "dd18bc1a",
   "metadata": {},
   "outputs": [
    {
     "data": {
      "text/plain": [
       "Text(0.5, 1.0, 'Punctuations for a Disaster')"
      ]
     },
     "execution_count": 31,
     "metadata": {},
     "output_type": "execute_result"
    },
    {
     "data": {
      "image/png": "[encoded data removed]",
      "text/plain": [
       "<Figure size 864x360 with 2 Axes>"
      ]
     },
     "metadata": {},
     "output_type": "display_data"
    }
   ],
   "source": [
    "dic = dic_punctuation(0)\n",
    "x, y=zip(*dic.items())\n",
    "\n",
    "dic1 = dic_punctuation(1)\n",
    "x1, y1=zip(*dic1.items())\n",
    "\n",
    "fig, (axe1, axe2)= plt.subplots(1,2,sharey=True, figsize=(12,5))\n",
    "axe1.bar(x,y,color='g')\n",
    "axe1.set_title('Punctuations for Not a Disaster')\n",
    "axe1.set_ylabel('Count')\n",
    "\n",
    "axe2.bar(x1,y1,color='r')\n",
    "axe2.set_title('Punctuations for a Disaster')\n"
   ]
  },
  {
   "cell_type": "code",
   "execution_count": 32,
   "id": "af505a1a",
   "metadata": {},
   "outputs": [],
   "source": [
    "# I dont see any important difference and the amount of punctuations relative to the sample size for each target is less\n",
    "# than 2%. Moving forward I will remove all the punctuations."
   ]
  },
  {
   "cell_type": "code",
   "execution_count": 35,
   "id": "6c0a48c4",
   "metadata": {},
   "outputs": [
    {
     "data": {
      "text/html": [
       "<div>\n",
       "<style scoped>\n",
       "    .dataframe tbody tr th:only-of-type {\n",
       "        vertical-align: middle;\n",
       "    }\n",
       "\n",
       "    .dataframe tbody tr th {\n",
       "        vertical-align: top;\n",
       "    }\n",
       "\n",
       "    .dataframe thead th {\n",
       "        text-align: right;\n",
       "    }\n",
       "</style>\n",
       "<table border=\"1\" class=\"dataframe\">\n",
       "  <thead>\n",
       "    <tr style=\"text-align: right;\">\n",
       "      <th></th>\n",
       "      <th>id</th>\n",
       "      <th>keyword</th>\n",
       "      <th>location</th>\n",
       "      <th>text</th>\n",
       "      <th>target</th>\n",
       "      <th>length_txt</th>\n",
       "      <th>word_count</th>\n",
       "    </tr>\n",
       "  </thead>\n",
       "  <tbody>\n",
       "    <tr>\n",
       "      <th>0</th>\n",
       "      <td>1</td>\n",
       "      <td>NaN</td>\n",
       "      <td>NaN</td>\n",
       "      <td>Our Deeds are the Reason of this #earthquake M...</td>\n",
       "      <td>1</td>\n",
       "      <td>69</td>\n",
       "      <td>13</td>\n",
       "    </tr>\n",
       "    <tr>\n",
       "      <th>1</th>\n",
       "      <td>4</td>\n",
       "      <td>NaN</td>\n",
       "      <td>NaN</td>\n",
       "      <td>Forest fire near La Ronge Sask. Canada</td>\n",
       "      <td>1</td>\n",
       "      <td>38</td>\n",
       "      <td>7</td>\n",
       "    </tr>\n",
       "    <tr>\n",
       "      <th>2</th>\n",
       "      <td>5</td>\n",
       "      <td>NaN</td>\n",
       "      <td>NaN</td>\n",
       "      <td>All residents asked to 'shelter in place' are ...</td>\n",
       "      <td>1</td>\n",
       "      <td>133</td>\n",
       "      <td>22</td>\n",
       "    </tr>\n",
       "    <tr>\n",
       "      <th>3</th>\n",
       "      <td>6</td>\n",
       "      <td>NaN</td>\n",
       "      <td>NaN</td>\n",
       "      <td>13,000 people receive #wildfires evacuation or...</td>\n",
       "      <td>1</td>\n",
       "      <td>65</td>\n",
       "      <td>8</td>\n",
       "    </tr>\n",
       "    <tr>\n",
       "      <th>4</th>\n",
       "      <td>7</td>\n",
       "      <td>NaN</td>\n",
       "      <td>NaN</td>\n",
       "      <td>Just got sent this photo from Ruby #Alaska as ...</td>\n",
       "      <td>1</td>\n",
       "      <td>88</td>\n",
       "      <td>16</td>\n",
       "    </tr>\n",
       "  </tbody>\n",
       "</table>\n",
       "</div>"
      ],
      "text/plain": [
       "   id keyword location                                               text  \\\n",
       "0   1     NaN      NaN  Our Deeds are the Reason of this #earthquake M...   \n",
       "1   4     NaN      NaN             Forest fire near La Ronge Sask. Canada   \n",
       "2   5     NaN      NaN  All residents asked to 'shelter in place' are ...   \n",
       "3   6     NaN      NaN  13,000 people receive #wildfires evacuation or...   \n",
       "4   7     NaN      NaN  Just got sent this photo from Ruby #Alaska as ...   \n",
       "\n",
       "   target  length_txt  word_count  \n",
       "0       1          69          13  \n",
       "1       1          38           7  \n",
       "2       1         133          22  \n",
       "3       1          65           8  \n",
       "4       1          88          16  "
      ]
     },
     "execution_count": 35,
     "metadata": {},
     "output_type": "execute_result"
    }
   ],
   "source": [
    "# Removing punctuations\n",
    "df_train.head()"
   ]
  },
  {
   "cell_type": "code",
   "execution_count": 40,
   "id": "edcc533d",
   "metadata": {},
   "outputs": [
    {
     "data": {
      "text/html": [
       "<div>\n",
       "<style scoped>\n",
       "    .dataframe tbody tr th:only-of-type {\n",
       "        vertical-align: middle;\n",
       "    }\n",
       "\n",
       "    .dataframe tbody tr th {\n",
       "        vertical-align: top;\n",
       "    }\n",
       "\n",
       "    .dataframe thead th {\n",
       "        text-align: right;\n",
       "    }\n",
       "</style>\n",
       "<table border=\"1\" class=\"dataframe\">\n",
       "  <thead>\n",
       "    <tr style=\"text-align: right;\">\n",
       "      <th></th>\n",
       "      <th>id</th>\n",
       "      <th>keyword</th>\n",
       "      <th>location</th>\n",
       "      <th>text</th>\n",
       "      <th>target</th>\n",
       "      <th>length_txt</th>\n",
       "      <th>word_count</th>\n",
       "      <th>sent_tokens</th>\n",
       "      <th>word_tokens</th>\n",
       "    </tr>\n",
       "  </thead>\n",
       "  <tbody>\n",
       "    <tr>\n",
       "      <th>0</th>\n",
       "      <td>1</td>\n",
       "      <td>NaN</td>\n",
       "      <td>NaN</td>\n",
       "      <td>Our Deeds are the Reason of this #earthquake M...</td>\n",
       "      <td>1</td>\n",
       "      <td>69</td>\n",
       "      <td>13</td>\n",
       "      <td>[Our Deeds are the Reason of this #earthquake ...</td>\n",
       "      <td>[Our, Deeds, are, the, Reason, of, this, #, ea...</td>\n",
       "    </tr>\n",
       "    <tr>\n",
       "      <th>1</th>\n",
       "      <td>4</td>\n",
       "      <td>NaN</td>\n",
       "      <td>NaN</td>\n",
       "      <td>Forest fire near La Ronge Sask. Canada</td>\n",
       "      <td>1</td>\n",
       "      <td>38</td>\n",
       "      <td>7</td>\n",
       "      <td>[Forest fire near La Ronge Sask., Canada]</td>\n",
       "      <td>[Forest, fire, near, La, Ronge, Sask, ., Canada]</td>\n",
       "    </tr>\n",
       "    <tr>\n",
       "      <th>2</th>\n",
       "      <td>5</td>\n",
       "      <td>NaN</td>\n",
       "      <td>NaN</td>\n",
       "      <td>All residents asked to 'shelter in place' are ...</td>\n",
       "      <td>1</td>\n",
       "      <td>133</td>\n",
       "      <td>22</td>\n",
       "      <td>[All residents asked to 'shelter in place' are...</td>\n",
       "      <td>[All, residents, asked, to, 'shelter, in, plac...</td>\n",
       "    </tr>\n",
       "    <tr>\n",
       "      <th>3</th>\n",
       "      <td>6</td>\n",
       "      <td>NaN</td>\n",
       "      <td>NaN</td>\n",
       "      <td>13,000 people receive #wildfires evacuation or...</td>\n",
       "      <td>1</td>\n",
       "      <td>65</td>\n",
       "      <td>8</td>\n",
       "      <td>[13,000 people receive #wildfires evacuation o...</td>\n",
       "      <td>[13,000, people, receive, #, wildfires, evacua...</td>\n",
       "    </tr>\n",
       "    <tr>\n",
       "      <th>4</th>\n",
       "      <td>7</td>\n",
       "      <td>NaN</td>\n",
       "      <td>NaN</td>\n",
       "      <td>Just got sent this photo from Ruby #Alaska as ...</td>\n",
       "      <td>1</td>\n",
       "      <td>88</td>\n",
       "      <td>16</td>\n",
       "      <td>[Just got sent this photo from Ruby #Alaska as...</td>\n",
       "      <td>[Just, got, sent, this, photo, from, Ruby, #, ...</td>\n",
       "    </tr>\n",
       "  </tbody>\n",
       "</table>\n",
       "</div>"
      ],
      "text/plain": [
       "   id keyword location                                               text  \\\n",
       "0   1     NaN      NaN  Our Deeds are the Reason of this #earthquake M...   \n",
       "1   4     NaN      NaN             Forest fire near La Ronge Sask. Canada   \n",
       "2   5     NaN      NaN  All residents asked to 'shelter in place' are ...   \n",
       "3   6     NaN      NaN  13,000 people receive #wildfires evacuation or...   \n",
       "4   7     NaN      NaN  Just got sent this photo from Ruby #Alaska as ...   \n",
       "\n",
       "   target  length_txt  word_count  \\\n",
       "0       1          69          13   \n",
       "1       1          38           7   \n",
       "2       1         133          22   \n",
       "3       1          65           8   \n",
       "4       1          88          16   \n",
       "\n",
       "                                         sent_tokens  \\\n",
       "0  [Our Deeds are the Reason of this #earthquake ...   \n",
       "1          [Forest fire near La Ronge Sask., Canada]   \n",
       "2  [All residents asked to 'shelter in place' are...   \n",
       "3  [13,000 people receive #wildfires evacuation o...   \n",
       "4  [Just got sent this photo from Ruby #Alaska as...   \n",
       "\n",
       "                                         word_tokens  \n",
       "0  [Our, Deeds, are, the, Reason, of, this, #, ea...  \n",
       "1   [Forest, fire, near, La, Ronge, Sask, ., Canada]  \n",
       "2  [All, residents, asked, to, 'shelter, in, plac...  \n",
       "3  [13,000, people, receive, #, wildfires, evacua...  \n",
       "4  [Just, got, sent, this, photo, from, Ruby, #, ...  "
      ]
     },
     "execution_count": 40,
     "metadata": {},
     "output_type": "execute_result"
    }
   ],
   "source": [
    "def sent_token(text):\n",
    "    \"\"\"Performs a sentence tokenization\"\"\"\n",
    "    return sent_tokenize(text)\n",
    "def word_token(text):\n",
    "    \"\"\"Performs a word Tokenization\"\"\"\n",
    "    return word_tokenize(text)\n",
    "\n",
    "df_train['sent_tokens'] = df_train['text'].apply(sent_token)\n",
    "df_train['sent_tokens_len'] = df_train['sent_tokens'].apply(textlength)\n",
    "\n",
    "df_train['word_tokens'] = df_train['text'].apply(word_token)\n",
    "df_train['word_tokens_len'] = df_train['word_tokens'].apply(textlength)\n",
    "\n",
    "df_train.head()"
   ]
  },
  {
   "cell_type": "code",
   "execution_count": null,
   "id": "df05b9cf",
   "metadata": {},
   "outputs": [],
   "source": []
  }
 ],
 "metadata": {
  "kernelspec": {
   "display_name": "Python 3",
   "language": "python",
   "name": "python3"
  },
  "language_info": {
   "codemirror_mode": {
    "name": "ipython",
    "version": 3
   },
   "file_extension": ".py",
   "mimetype": "text/x-python",
   "name": "python",
   "nbconvert_exporter": "python",
   "pygments_lexer": "ipython3",
   "version": "3.8.8"
  }
 },
 "nbformat": 4,
 "nbformat_minor": 5
}
